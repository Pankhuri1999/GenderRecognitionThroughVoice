{
  "nbformat": 4,
  "nbformat_minor": 0,
  "metadata": {
    "colab": {
      "provenance": []
    },
    "kernelspec": {
      "name": "python3",
      "display_name": "Python 3"
    },
    "language_info": {
      "name": "python"
    }
  },
  "cells": [
    {
      "cell_type": "code",
      "execution_count": 1,
      "metadata": {
        "id": "L8RpxuRfRF4P"
      },
      "outputs": [],
      "source": [
        "! wget -r -voxforge.tgz http://www.repository.voxforge1.org/downloads/Russian/Trunk/Audio/Original/48kHz_16bit/"
      ]
    },
    {
      "cell_type": "markdown",
      "source": [
        "The dataset for this project  has been downloaded from voxforge"
      ],
      "metadata": {
        "id": "gcSTo5FvSWK5"
      }
    },
    {
      "cell_type": "code",
      "source": [],
      "metadata": {
        "id": "S3q-OkR-RTX1"
      },
      "execution_count": null,
      "outputs": []
    }
  ]
}